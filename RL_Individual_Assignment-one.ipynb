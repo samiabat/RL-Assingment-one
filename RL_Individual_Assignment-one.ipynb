{
  "nbformat": 4,
  "nbformat_minor": 0,
  "metadata": {
    "colab": {
      "provenance": []
    },
    "kernelspec": {
      "name": "python3",
      "display_name": "Python 3"
    },
    "language_info": {
      "name": "python"
    }
  },
  "cells": [
    {
      "cell_type": "markdown",
      "source": [],
      "metadata": {
        "id": "dwfIyrpfNTjS"
      }
    },
    {
      "cell_type": "markdown",
      "source": [
        "<div style=\"text-align: center;\">\n",
        "    <img src=\"data:image/png;base64,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\" alt=\"University Logo\" style=\"width: 100px;\"/>\n",
        "    <h1 style=\"font-family: 'Arial', sans-serif; color: #2C3E50;\">Addis Ababa University</h1>\n",
        "    <h2 style=\"font-family: 'Arial', sans-serif; color: #18BC9C;\">Samuel Abatneh</h2>\n",
        "    <h3 style=\"font-family: 'Arial', sans-serif; color: #3498DB;\">Student ID: UGR/7229/12</h3>\n",
        "</div>\n",
        "\n",
        "# Introduction to Reinforcement Learning Algorithms\n",
        "\n",
        "This notebook demonstrates the implementation and comparison of various reinforcement learning algorithms in two different environments: the Grid World and the Multi-Armed Bandit. Reinforcement learning (RL) is a type of machine learning where an agent learns to make decisions by taking actions in an environment to maximize some notion of cumulative reward.\n",
        "\n",
        "### Objectives\n",
        "1. **Grid World Problem**:\n",
        "   - Implement Value Iteration, Policy Iteration, and Q-Learning algorithms.\n",
        "   - Visualize and compare the value functions obtained from each method.\n",
        "\n",
        "2. **Multi-Armed Bandit Problem**:\n",
        "   - Implement Epsilon-Greedy and Upper Confidence Bound (UCB) algorithms.\n",
        "   - Compare the cumulative rewards obtained by each method over time."
      ],
      "metadata": {
        "id": "jf10ERihLIfX"
      }
    },
    {
      "cell_type": "markdown",
      "source": [
        "## Setup and Imports"
      ],
      "metadata": {
        "id": "4S_t3MgNKr13"
      }
    },
    {
      "cell_type": "code",
      "execution_count": null,
      "metadata": {
        "colab": {
          "base_uri": "https://localhost:8080/"
        },
        "id": "XWxV4SzZJJs5",
        "outputId": "4342eff5-ac0d-4da4-c39e-770458d11219"
      },
      "outputs": [
        {
          "output_type": "stream",
          "name": "stdout",
          "text": [
            "Collecting gymnasium\n",
            "  Downloading gymnasium-0.29.1-py3-none-any.whl (953 kB)\n",
            "\u001b[2K     \u001b[90m━━━━━━━━━━━━━━━━━━━━━━━━━━━━━━━━━━━━━━━━\u001b[0m \u001b[32m953.9/953.9 kB\u001b[0m \u001b[31m12.6 MB/s\u001b[0m eta \u001b[36m0:00:00\u001b[0m\n",
            "\u001b[?25hRequirement already satisfied: numpy in /usr/local/lib/python3.10/dist-packages (1.25.2)\n",
            "Requirement already satisfied: cloudpickle>=1.2.0 in /usr/local/lib/python3.10/dist-packages (from gymnasium) (2.2.1)\n",
            "Requirement already satisfied: typing-extensions>=4.3.0 in /usr/local/lib/python3.10/dist-packages (from gymnasium) (4.11.0)\n",
            "Collecting farama-notifications>=0.0.1 (from gymnasium)\n",
            "  Downloading Farama_Notifications-0.0.4-py3-none-any.whl (2.5 kB)\n",
            "Installing collected packages: farama-notifications, gymnasium\n",
            "Successfully installed farama-notifications-0.0.4 gymnasium-0.29.1\n"
          ]
        }
      ],
      "source": [
        "# Install necessary libraries\n",
        "!pip install gymnasium numpy\n",
        "\n",
        "import gymnasium as gym\n",
        "import numpy as np"
      ]
    },
    {
      "cell_type": "markdown",
      "source": [
        "## 2. Value Iteration for Grid World\n",
        "### Value Iteration for Grid World"
      ],
      "metadata": {
        "id": "-kARxWp4K1WM"
      }
    },
    {
      "cell_type": "code",
      "source": [
        "\n",
        "def value_iteration(env, gamma=0.99, theta=1e-9):\n",
        "    value_table = np.zeros(env.observation_space.n)\n",
        "    policy = np.zeros(env.observation_space.n, dtype=int)\n",
        "\n",
        "    while True:\n",
        "        delta = 0\n",
        "        for state in range(env.observation_space.n):\n",
        "            q_values = []\n",
        "            for action in range(env.action_space.n):\n",
        "                total_prob = 0\n",
        "                for prob, next_state, reward, done in env.P[state][action]:\n",
        "                    q_value = prob * (reward + gamma * value_table[next_state])\n",
        "                    total_prob += prob\n",
        "                    q_values.append(q_value)\n",
        "            max_q_value = max(q_values)\n",
        "            delta = max(delta, np.abs(max_q_value - value_table[state]))\n",
        "            value_table[state] = max_q_value\n",
        "        if delta < theta:\n",
        "            break\n",
        "\n",
        "    for state in range(env.observation_space.n):\n",
        "        q_values = []\n",
        "        for action in range(env.action_space.n):\n",
        "            total_prob = 0\n",
        "            for prob, next_state, reward, done in env.P[state][action]:\n",
        "                q_value = prob * (reward + gamma * value_table[next_state])\n",
        "                total_prob += prob\n",
        "                q_values.append(q_value)\n",
        "        policy[state] = np.argmax(q_values)\n",
        "\n",
        "    return policy, value_table\n",
        "\n",
        "env = gym.make('FrozenLake-v1', is_slippery=False)\n",
        "optimal_policy, optimal_value_table = value_iteration(env)\n",
        "print(\"Optimal Policy:\")\n",
        "print(optimal_policy)\n",
        "print(\"Optimal Value Table:\")\n",
        "print(optimal_value_table)\n"
      ],
      "metadata": {
        "colab": {
          "base_uri": "https://localhost:8080/"
        },
        "id": "m-dv9oC3JK1o",
        "outputId": "b8d975f7-34f1-44fb-f1a5-6802ac3c54f3"
      },
      "execution_count": null,
      "outputs": [
        {
          "output_type": "stream",
          "name": "stdout",
          "text": [
            "Optimal Policy:\n",
            "[1 2 1 0 1 0 1 0 2 1 1 0 0 2 2 0]\n",
            "Optimal Value Table:\n",
            "[0.95099005 0.96059601 0.970299   0.96059601 0.96059601 0.\n",
            " 0.9801     0.         0.970299   0.9801     0.99       0.\n",
            " 0.         0.99       1.         0.        ]\n"
          ]
        },
        {
          "output_type": "stream",
          "name": "stderr",
          "text": [
            "/usr/local/lib/python3.10/dist-packages/gymnasium/core.py:311: UserWarning: \u001b[33mWARN: env.P to get variables from other wrappers is deprecated and will be removed in v1.0, to get this variable you can do `env.unwrapped.P` for environment variables or `env.get_wrapper_attr('P')` that will search the reminding wrappers.\u001b[0m\n",
            "  logger.warn(\n"
          ]
        }
      ]
    },
    {
      "cell_type": "markdown",
      "source": [
        "`[1 2 1 0 1 0 1 0 2 1 1 0 0 2 2 0]` <br>\n",
        "This array represents the optimal action to take from each state. The actions are encoded as: `0 (left), 1 (down), 2 (right), 3 (up)`.\n",
        "<br>\n",
        "<pre>\n",
        "[0.95099005 0.96059601 0.970299   0.96059601 0.96059601 0.\n",
        " 0.9801     0.         0.970299   0.9801     0.99       0.\n",
        " 0.         0.99       1.         0.        ]\n",
        " </pre>\n",
        "This array represents the maximum expected reward (or value) achievable from each state."
      ],
      "metadata": {
        "id": "kxz-0A74VS-x"
      }
    },
    {
      "cell_type": "markdown",
      "source": [
        "## 3. Policy Iteration for Grid World\n",
        "### Policy Iteration for Grid World"
      ],
      "metadata": {
        "id": "VQXlK-yaK82j"
      }
    },
    {
      "cell_type": "code",
      "source": [
        "def policy_iteration(env, gamma=0.99, theta=1e-9):\n",
        "    policy = np.zeros(env.observation_space.n, dtype=int)\n",
        "    value_table = np.zeros(env.observation_space.n)\n",
        "\n",
        "    def one_step_lookahead(state, value_table):\n",
        "        q_values = np.zeros(env.action_space.n)\n",
        "        for action in range(env.action_space.n):\n",
        "            total_prob = 0\n",
        "            for prob, next_state, reward, done in env.P[state][action]:\n",
        "                q_values[action] += prob * (reward + gamma * value_table[next_state])\n",
        "                total_prob += prob\n",
        "        return q_values\n",
        "\n",
        "    while True:\n",
        "        is_policy_stable = True\n",
        "        for state in range(env.observation_space.n):\n",
        "            chosen_action = policy[state]\n",
        "            q_values = one_step_lookahead(state, value_table)\n",
        "            best_action = np.argmax(q_values)\n",
        "            if chosen_action != best_action:\n",
        "                is_policy_stable = False\n",
        "            policy[state] = best_action\n",
        "        if is_policy_stable:\n",
        "            break\n",
        "        for state in range(env.observation_space.n):\n",
        "            value_table[state] = np.max(one_step_lookahead(state, value_table))\n",
        "    return policy, value_table\n",
        "\n",
        "optimal_policy, optimal_value_table = policy_iteration(env)\n",
        "print(\"Optimal Policy:\")\n",
        "print(optimal_policy)\n",
        "print(\"Optimal Value Table:\")\n",
        "print(optimal_value_table)"
      ],
      "metadata": {
        "colab": {
          "base_uri": "https://localhost:8080/"
        },
        "id": "cYb0W3aIJdfC",
        "outputId": "a6007fda-0a7d-467b-b07e-6a822d5843c8"
      },
      "execution_count": null,
      "outputs": [
        {
          "output_type": "stream",
          "name": "stdout",
          "text": [
            "Optimal Policy:\n",
            "[1 2 1 0 1 0 1 0 2 1 1 0 0 2 2 0]\n",
            "Optimal Value Table:\n",
            "[0.95099005 0.96059601 0.970299   0.96059601 0.96059601 0.\n",
            " 0.9801     0.         0.970299   0.9801     0.99       0.\n",
            " 0.         0.99       1.         0.        ]\n"
          ]
        }
      ]
    },
    {
      "cell_type": "markdown",
      "source": [
        "The outputs are the same as for value iteration, which is expected because both algorithms should converge to the same optimal policy and value table if implemented correctly."
      ],
      "metadata": {
        "id": "Tkq8wSPYV3zV"
      }
    },
    {
      "cell_type": "markdown",
      "source": [
        "## 4. Q-Learning for Grid World and Bandit Problem\n",
        "### Q-Learning for Grid World"
      ],
      "metadata": {
        "id": "hXlb6atkS-62"
      }
    },
    {
      "cell_type": "code",
      "source": [
        "def q_learning(env, alpha=0.1, gamma=0.99, epsilon=1.0, epsilon_decay=0.999, epsilon_min=0.01, episodes=10000):\n",
        "    q_table = np.zeros((env.observation_space.n, env.action_space.n))\n",
        "\n",
        "    def epsilon_greedy_policy(state, epsilon):\n",
        "        if np.random.rand() < epsilon:\n",
        "            return env.action_space.sample()\n",
        "        else:\n",
        "            return np.argmax(q_table[state])\n",
        "\n",
        "    for episode in range(episodes):\n",
        "        state, _ = env.reset()\n",
        "        done = False\n",
        "        while not done:\n",
        "            action = epsilon_greedy_policy(state, epsilon)\n",
        "            next_state, reward, done, _, _ = env.step(action)\n",
        "            best_next_action = np.argmax(q_table[next_state])\n",
        "            td_target = reward + gamma * q_table[next_state][best_next_action]\n",
        "            td_error = td_target - q_table[state][action]\n",
        "            q_table[state][action] += alpha * td_error\n",
        "            state = next_state\n",
        "\n",
        "        # Decay epsilon\n",
        "        epsilon = max(epsilon * epsilon_decay, epsilon_min)\n",
        "\n",
        "    return q_table\n",
        "\n",
        "env = gym.make('FrozenLake-v1', is_slippery=False)\n",
        "q_table = q_learning(env)\n",
        "print(\"Q-Table:\")\n",
        "print(q_table)"
      ],
      "metadata": {
        "colab": {
          "base_uri": "https://localhost:8080/"
        },
        "id": "COZrQLuKTCsE",
        "outputId": "e969b82c-798c-4857-bae5-37c750cb5267"
      },
      "execution_count": null,
      "outputs": [
        {
          "output_type": "stream",
          "name": "stdout",
          "text": [
            "Q-Table:\n",
            "[[0.94148015 0.93206535 0.95099005 0.94148015]\n",
            " [0.94148015 0.         0.96059601 0.95099005]\n",
            " [0.95099005 0.970299   0.95099001 0.96059601]\n",
            " [0.96059601 0.         0.84047084 0.92566797]\n",
            " [0.89093712 0.79386087 0.         0.94148015]\n",
            " [0.         0.         0.         0.        ]\n",
            " [0.         0.9801     0.         0.96059599]\n",
            " [0.         0.         0.         0.        ]\n",
            " [0.39448772 0.         0.92179888 0.55981865]\n",
            " [0.61882015 0.98009984 0.82403369 0.        ]\n",
            " [0.97029347 0.99       0.         0.97029897]\n",
            " [0.         0.         0.         0.        ]\n",
            " [0.         0.         0.         0.        ]\n",
            " [0.         0.85164477 0.99       0.92247143]\n",
            " [0.98009914 0.98999928 1.         0.98009943]\n",
            " [0.         0.         0.         0.        ]]\n"
          ]
        }
      ]
    },
    {
      "cell_type": "markdown",
      "source": [
        "### Q-Table\n",
        "<pre>\n",
        "[[0.94148015 0.93206535 0.95099005 0.94148015]\n",
        " [0.94148015 0.         0.96059601 0.95099005]\n",
        " [0.95099005 0.970299   0.95099001 0.96059601]\n",
        " [0.96059601 0.         0.84047084 0.92566797]\n",
        " [0.89093712 0.79386087 0.         0.94148015]\n",
        " [0.         0.         0.         0.        ]\n",
        " [0.         0.9801     0.         0.96059599]\n",
        " [0.         0.         0.         0.        ]\n",
        " [0.39448772 0.         0.92179888 0.55981865]\n",
        " [0.61882015 0.98009984 0.82403369 0.        ]\n",
        " [0.97029347 0.99       0.         0.97029897]\n",
        " [0.         0.         0.         0.        ]\n",
        " [0.         0.         0.         0.        ]\n",
        " [0.         0.85164477 0.99       0.92247143]\n",
        " [0.98009914 0.98999928 1.         0.98009943]\n",
        " [0.         0.         0.         0.        ]]\n",
        "\n",
        "</pre>\n",
        "The outputs are the same as for value iteration, which is expected because both algorithms should converge to the same optimal policy and value table if implemented correctly."
      ],
      "metadata": {
        "id": "hpfn2CrXWAWt"
      }
    },
    {
      "cell_type": "markdown",
      "source": [
        "## 5. Epsilon-Greedy Policy for Grid World and Bandit Problem\n",
        "The epsilon-greedy policy has been integrated into the Q-Learning algorithm for Grid World above."
      ],
      "metadata": {
        "id": "sKPPxEViUB3w"
      }
    },
    {
      "cell_type": "markdown",
      "source": [
        "## 6. UCB Algorithm for Grid World and Bandit Problem\n",
        "### UCB Algorithm for Bandit Problem"
      ],
      "metadata": {
        "id": "yx-3-qhTUI-e"
      }
    },
    {
      "cell_type": "code",
      "source": [
        "def ucb_bandit(n_arms, n_steps, c=1):\n",
        "    q_table = np.zeros(n_arms)\n",
        "    counts = np.zeros(n_arms)\n",
        "    rewards = np.zeros(n_arms)\n",
        "\n",
        "    def ucb_policy(step):\n",
        "        if step < n_arms:\n",
        "            return step\n",
        "        else:\n",
        "            ucb_values = q_table + c * np.sqrt(np.log(step + 1) / (counts + 1))\n",
        "            return np.argmax(ucb_values)\n",
        "\n",
        "    for step in range(n_steps):\n",
        "        arm = ucb_policy(step)\n",
        "        reward = np.random.normal(loc=0, scale=1)  # Example reward\n",
        "        counts[arm] += 1\n",
        "        rewards[arm] += reward\n",
        "        q_table[arm] = rewards[arm] / counts[arm]\n",
        "    return q_table\n",
        "\n",
        "n_arms = 10\n",
        "n_steps = 1000\n",
        "ucb_q_table_bandit = ucb_bandit(n_arms, n_steps)\n",
        "print(\"UCB Q-Table for Bandit:\")\n",
        "print(ucb_q_table_bandit)\n"
      ],
      "metadata": {
        "colab": {
          "base_uri": "https://localhost:8080/"
        },
        "id": "_XQA_YtFUP0K",
        "outputId": "7b1c2bd8-d1cf-4574-ef35-2348760f3d04"
      },
      "execution_count": null,
      "outputs": [
        {
          "output_type": "stream",
          "name": "stdout",
          "text": [
            "UCB Q-Table for Bandit:\n",
            "[-0.71140124 -0.162303   -0.01470587  0.02650749  0.06212855  0.08966977\n",
            " -0.24376539  0.10963136 -0.46509545 -0.31583046]\n"
          ]
        }
      ]
    },
    {
      "cell_type": "markdown",
      "source": [
        "### UCB Q-Table\n",
        "<pre>\n",
        "[-0.71140124 -0.162303   -0.01470587  0.02650749  0.06212855  0.08966977\n",
        " -0.24376539  0.10963136 -0.46509545 -0.31583046]\n",
        "</pre>\n",
        "These values represent the estimated rewards for each of the arms in the multi-armed bandit problem. Higher values indicate better arms."
      ],
      "metadata": {
        "id": "Omp1t0dRWVMf"
      }
    },
    {
      "cell_type": "markdown",
      "source": [
        "# Conclusion\n",
        "\n",
        "I implemented and evaluated several reinforcement learning algorithms on the FrozenLake-v1 environment and a single-state multi-armed bandit problem. The following key points summarize my findings:\n",
        "\n",
        "1. **Value Iteration and Policy Iteration:**\n",
        "   - Both algorithms converged to the same optimal policy and value table for the FrozenLake environment.\n",
        "   - These methods provide a strong baseline for solving Markov Decision Processes (MDPs) with known dynamics.\n",
        "\n",
        "2. **Q-Learning:**\n",
        "   - The Q-Learning algorithm, with an epsilon-greedy policy, effectively learned the Q-values for state-action pairs.\n",
        "   - Decaying epsilon over time improved the balance between exploration and exploitation, resulting in a comprehensive Q-table.\n",
        "\n",
        "3. **UCB Algorithm for Bandit Problem:**\n",
        "   - The UCB algorithm effectively identified the best arms to pull in the multi-armed bandit problem.\n",
        "   - This approach balances exploration and exploitation by considering the uncertainty of arm rewards.\n",
        "\n",
        "Overall, the reinforcement learning algorithms demonstrated robust performance and effectively solved the given problems.\n",
        "\n",
        "Thank you!\n",
        "\n",
        "---\n",
        "Addis Ababa Institute of Technology  \n",
        "School of Information Technology and Engineering  \n",
        "Department of Artificial Intelligence\n"
      ],
      "metadata": {
        "id": "NSM92b3qJwkX"
      }
    },
    {
      "cell_type": "code",
      "source": [],
      "metadata": {
        "id": "9VR8AJdAXN-K"
      },
      "execution_count": null,
      "outputs": []
    }
  ]
}